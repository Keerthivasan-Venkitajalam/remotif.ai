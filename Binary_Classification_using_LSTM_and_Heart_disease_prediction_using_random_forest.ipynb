{
  "cells": [
    {
      "cell_type": "code",
      "execution_count": null,
      "metadata": {
        "colab": {
          "background_save": true
        },
        "id": "ovFTr3pQ68x7"
      },
      "outputs": [],
      "source": [
        "# https://www.kaggle.com/shayanfazeli/heartbeat   # data set\n",
        "\n",
        "import pandas as pd\n",
        "import numpy as np\n",
        "import matplotlib.pyplot as plt # plotting\n",
        "import os\n",
        "import sklearn\n",
        "from keras.models import Sequential\n",
        "from keras.layers import Flatten, Dense, Dropout, BatchNormalization, AveragePooling2D\n",
        "from sklearn.model_selection import train_test_split\n",
        "\n",
        "from sklearn.metrics import accuracy_score, f1_score, precision_score, recall_score\n",
        "import scipy\n",
        "from imblearn.over_sampling import SMOTE\n",
        "from sklearn.model_selection import cross_validate"
      ]
    },
    {
      "cell_type": "code",
      "execution_count": null,
      "metadata": {
        "colab": {
          "background_save": true
        },
        "id": "HuTudQ27j5Ec",
        "outputId": "7407fb97-d76f-47ed-846b-7a2ed972588f"
      },
      "outputs": [
        {
          "name": "stdout",
          "output_type": "stream",
          "text": [
            "TensorFlow version: 2.18.0\n",
            "Keras version: 3.6.0\n",
            "Labels (categorical): [[1. 0.]\n",
            " [0. 1.]]\n"
          ]
        }
      ],
      "source": [
        "import tensorflow as tf\n",
        "from tensorflow import keras\n",
        "from tensorflow.keras.utils import to_categorical\n",
        "import numpy as np\n",
        "import seaborn as sns\n",
        "\n",
        "# Sample code to verify functionality\n",
        "print(f\"TensorFlow version: {tf.__version__}\")\n",
        "print(f\"Keras version: {keras.__version__}\")\n",
        "\n",
        "# Create some sample data\n",
        "data = np.array([[1, 2, 3], [4, 5, 6]])\n",
        "labels = np.array([0, 1])\n",
        "\n",
        "# One-hot encoding of labels\n",
        "labels_categorical = to_categorical(labels)\n",
        "\n",
        "print(\"Labels (categorical):\", labels_categorical)\n"
      ]
    },
    {
      "cell_type": "code",
      "execution_count": null,
      "metadata": {
        "id": "jeSbskBuQReh"
      },
      "outputs": [],
      "source": [
        "from google.colab import drive\n",
        "drive.mount('/content/drive')"
      ]
    },
    {
      "cell_type": "code",
      "execution_count": null,
      "metadata": {
        "colab": {
          "background_save": true,
          "base_uri": "https://localhost:8080/"
        },
        "id": "K_KsFEpJfS5g",
        "outputId": "46104f21-6f4d-4943-b013-0efae3db4f0e"
      },
      "outputs": [
        {
          "name": "stdout",
          "output_type": "stream",
          "text": [
            "Model Accuracy: 0.99\n",
            "Confusion Matrix:\n",
            " [[7538   53]\n",
            " [ 120 6641]]\n",
            "Classification Report:\n",
            "               precision    recall  f1-score   support\n",
            "\n",
            "           0       0.98      0.99      0.99      7591\n",
            "           1       0.99      0.98      0.99      6761\n",
            "\n",
            "    accuracy                           0.99     14352\n",
            "   macro avg       0.99      0.99      0.99     14352\n",
            "weighted avg       0.99      0.99      0.99     14352\n",
            "\n",
            "Enter the values for each feature:\n"
          ]
        }
      ],
      "source": [
        "import numpy as np\n",
        "import pandas as pd\n",
        "from sklearn.ensemble import RandomForestClassifier\n",
        "from sklearn.model_selection import train_test_split\n",
        "from sklearn.metrics import accuracy_score, confusion_matrix, classification_report\n",
        "\n",
        "# Constants\n",
        "FEATURE_NAMES = [\"age\", \"sex\", \"SysBP\", \"DiaBP\", \"HR\", \"weightKg\", \"heightCm\", \"BMI\"]\n",
        "NUM_FEATURES = len(FEATURE_NAMES)\n",
        "\n",
        "# Function to read dataset from a CSV file\n",
        "def read_dataset(file_path):\n",
        "    # Load the dataset\n",
        "    data = pd.read_csv(file_path)\n",
        "\n",
        "    # Select only the relevant feature columns plus the target\n",
        "    X = data[FEATURE_NAMES].values  # Features (specific columns only)\n",
        "    y = data.iloc[:, -1].values     # Target variable (last column)\n",
        "\n",
        "    return X, y\n",
        "\n",
        "# Function to take user input for symptoms\n",
        "def get_user_input():\n",
        "    user_input = []\n",
        "    print(\"Enter the values for each feature:\")\n",
        "    for feature in FEATURE_NAMES:\n",
        "        value = float(input(f\"{feature.capitalize()}: \"))\n",
        "        user_input.append(value)\n",
        "    return np.array(user_input).reshape(1, -1)\n",
        "\n",
        "# Function to display the predicted result for heart disease\n",
        "def display_prediction_result(prediction):\n",
        "    result = \"has heart disease\" if prediction == 1 else \"does not have heart disease\"\n",
        "    print(f\"The predicted result for heart disease is: {result}\")\n",
        "\n",
        "# Main function\n",
        "def main():\n",
        "    file_path = \"/content/Health_heart_experimental.csv\"  # Replace with your file path\n",
        "    X, y = read_dataset(file_path)\n",
        "\n",
        "    # Split the data into training and testing sets\n",
        "    X_train, X_test, y_train, y_test = train_test_split(X, y, test_size=0.2, random_state=42)\n",
        "\n",
        "    # Initialize the Random Forest Classifier\n",
        "    rf_model = RandomForestClassifier(n_estimators=100, random_state=42)\n",
        "\n",
        "    # Train the model with the correct number of features\n",
        "    rf_model.fit(X_train, y_train)\n",
        "\n",
        "    # Evaluate the model on the test set\n",
        "    y_pred = rf_model.predict(X_test)\n",
        "    accuracy = accuracy_score(y_test, y_pred)\n",
        "    print(f\"Model Accuracy: {accuracy:.2f}\")\n",
        "    print(\"Confusion Matrix:\\n\", confusion_matrix(y_test, y_pred))\n",
        "    print(\"Classification Report:\\n\", classification_report(y_test, y_pred))\n",
        "\n",
        "    # Take user input for symptoms\n",
        "    user_input = get_user_input()\n",
        "\n",
        "    # Predict the presence of heart disease based on user input\n",
        "    prediction = rf_model.predict(user_input)[0]\n",
        "\n",
        "    # Display the predicted result for heart disease\n",
        "    display_prediction_result(prediction)\n",
        "\n",
        "if __name__ == \"__main__\":\n",
        "    main()\n"
      ]
    },
    {
      "cell_type": "code",
      "execution_count": null,
      "metadata": {
        "colab": {
          "base_uri": "https://localhost:8080/",
          "height": 582
        },
        "id": "GsRBBlzKAZfp",
        "outputId": "9eee53b6-2804-470a-f524-7ac2a132ac55"
      },
      "outputs": [
        {
          "data": {
            "image/png": "[encoded data removed]",
            "text/plain": [
              "<Figure size 1200x600 with 1 Axes>"
            ]
          },
          "metadata": {},
          "output_type": "display_data"
        },
        {
          "name": "stdout",
          "output_type": "stream",
          "text": [
            "Displayed signal is from sample index 90 with label N\n"
          ]
        }
      ],
      "source": [
        "import pandas as pd\n",
        "import numpy as np\n",
        "import matplotlib.pyplot as plt\n",
        "import random\n",
        "\n",
        "# Read the training dataset\n",
        "train = pd.read_csv(\"/content/drive/MyDrive/archive (2)/mitbih_train.csv\", header=None)\n",
        "\n",
        "# Get the number of samples in the dataset\n",
        "num_samples = train.shape[0]\n",
        "\n",
        "# Choose a random sample index\n",
        "random_index = 90\n",
        "\n",
        "# Get the signal data for the chosen sample (columns 0 to 186 contain the signal data)\n",
        "signal_data = train.iloc[random_index, 0:187].values\n",
        "\n",
        "# Create a time axis (assuming each point is sampled at a fixed interval)\n",
        "time_axis = np.arange(len(signal_data))\n",
        "\n",
        "# Get the label of the chosen sample\n",
        "label = train.iloc[random_index, 187]\n",
        "\n",
        "# Map the label to its corresponding class\n",
        "label_map = {0.0: 'N', 1.0: 'S', 2.0: 'V', 3.0: 'F', 4.0: 'Q'}\n",
        "label_text = label_map.get(label, 'Unknown')\n",
        "\n",
        "# Plot the signal\n",
        "plt.figure(figsize=(12, 6))\n",
        "plt.plot(time_axis, signal_data, 'b-')\n",
        "plt.title(f'ECG Signal (Class: {label_text})')\n",
        "plt.xlabel('Sample Index')\n",
        "plt.ylabel('Amplitude')\n",
        "plt.grid()\n",
        "plt.show()\n",
        "\n",
        "print(f\"Displayed signal is from sample index {random_index} with label {label_text}\")"
      ]
    },
    {
      "cell_type": "code",
      "execution_count": null,
      "metadata": {
        "colab": {
          "base_uri": "https://localhost:8080/"
        },
        "id": "2SgAoDuo5L3l",
        "outputId": "2adf9484-4ca1-4970-939b-bcbbb32483e5"
      },
      "outputs": [
        {
          "name": "stdout",
          "output_type": "stream",
          "text": [
            "[1, 2, 3, 4, 6, 8]\n"
          ]
        }
      ],
      "source": [
        "# Assuming num_samples is a list of labels\n",
        "num_samples = [\"N\", \"S\", \"V\", \"F\", \"Q\", \"N\", \"S\", \"N\", \"V\"]  # Example list\n",
        "\n",
        "signal_indices = []\n",
        "for i, label in enumerate(num_samples):\n",
        "    if label in [\"S\", \"V\", \"F\", \"Q\"]:\n",
        "        signal_indices.append(i)\n",
        "\n",
        "print(signal_indices)\n"
      ]
    },
    {
      "cell_type": "code",
      "execution_count": null,
      "metadata": {
        "id": "O7XjCAGh68x-"
      },
      "outputs": [],
      "source": [
        "# reading csv file\n",
        "\n",
        "test=pd.read_csv(\"/content/drive/MyDrive/archive (2)/mitbih_test.csv\",header=None)\n",
        "train=pd.read_csv(\"/content/drive/MyDrive/archive (2)/mitbih_train.csv\",header=None)\n",
        "#Classes: ['N': 0, 'S': 1, 'V': 2, 'F': 3, 'Q': 4]\n",
        "# N- normal, S-supraventricular, V-ventricular, F-fusion, Q- unknown"
      ]
    },
    {
      "cell_type": "code",
      "execution_count": null,
      "metadata": {
        "colab": {
          "base_uri": "https://localhost:8080/"
        },
        "id": "R6Es6Cet68x_",
        "outputId": "0de64fb6-5615-49f1-d440-82a7aab2cb7b"
      },
      "outputs": [
        {
          "name": "stdout",
          "output_type": "stream",
          "text": [
            "Type\tCount\n",
            "187\n",
            "0.0    72471\n",
            "4.0     6431\n",
            "2.0     5788\n",
            "1.0     2223\n",
            "3.0      641\n",
            "Name: count, dtype: int64\n",
            "train shape :  (87554, 188)\n",
            "test shape :  (21892, 188)\n"
          ]
        }
      ],
      "source": [
        "print(\"Type\\tCount\")\n",
        "print((train[187]).value_counts())\n",
        "\n",
        "print(\"train shape : \",train.shape)\n",
        "print(\"test shape : \",test.shape)\n"
      ]
    },
    {
      "cell_type": "code",
      "execution_count": null,
      "metadata": {
        "id": "d4A4Bq3b68x_"
      },
      "outputs": [],
      "source": [
        "label_train=[]                              # making multiclass to binary class now labels_train containing either 0 or 1\n",
        "for i in train.iloc[:,187] :\n",
        "  if i not in  [0.0]:\n",
        "    label_train.append(1)\n",
        "    # print(\"value is\",i)\n",
        "  else:\n",
        "    label_train.append(0)\n",
        "    # print(\"value\",i)\n"
      ]
    },
    {
      "cell_type": "code",
      "execution_count": null,
      "metadata": {
        "id": "heiNbeEK68x_"
      },
      "outputs": [],
      "source": [
        "label_test=[]                              # making multiclass to binary class.now labels_test containing either 0 or 1\n",
        "for i in test.iloc[:,187]:\n",
        "  if i not in  [0.0]:\n",
        "    label_test.append(1)\n",
        "    # print(\"value is\",i)\n",
        "  else:\n",
        "    label_test.append(0)\n",
        "    #print(\"value\",i)\n"
      ]
    },
    {
      "cell_type": "code",
      "execution_count": null,
      "metadata": {
        "colab": {
          "base_uri": "https://localhost:8080/"
        },
        "id": "5S8eii-t68yA",
        "outputId": "c5215638-d5f6-4e35-e0c7-4e6503f6ca24"
      },
      "outputs": [
        {
          "name": "stdout",
          "output_type": "stream",
          "text": [
            "       col\n",
            "0        0\n",
            "1        0\n",
            "2        0\n",
            "3        0\n",
            "4        0\n",
            "...    ...\n",
            "87549    1\n",
            "87550    1\n",
            "87551    1\n",
            "87552    1\n",
            "87553    1\n",
            "\n",
            "[87554 rows x 1 columns]\n",
            "       col\n",
            "0        0\n",
            "1        0\n",
            "2        0\n",
            "3        0\n",
            "4        0\n",
            "...    ...\n",
            "21887    1\n",
            "21888    1\n",
            "21889    1\n",
            "21890    1\n",
            "21891    1\n",
            "\n",
            "[21892 rows x 1 columns]\n"
          ]
        }
      ],
      "source": [
        "#create new df\n",
        "labels_train = pd.DataFrame({'col':label_train})\n",
        "print (labels_train)\n",
        "\n",
        "labels_test = pd.DataFrame({'col':label_test})\n",
        "print (labels_test)\n"
      ]
    },
    {
      "cell_type": "code",
      "execution_count": null,
      "metadata": {
        "id": "rannjALf68yA"
      },
      "outputs": [],
      "source": [
        "label_train=np.asarray(label_train)\n",
        "\n",
        "label_test=np.asarray(label_test)\n",
        "\n",
        "train[187] = labels_train    # replace labels column with binary labels\n",
        "test[187] =  labels_test"
      ]
    },
    {
      "cell_type": "code",
      "execution_count": null,
      "metadata": {
        "colab": {
          "base_uri": "https://localhost:8080/"
        },
        "id": "CTTNYZg568yA",
        "outputId": "4922fd2b-b4db-41bd-ffba-55a1fd54edbd"
      },
      "outputs": [
        {
          "name": "stdout",
          "output_type": "stream",
          "text": [
            "Count of all classes in training dataset\n",
            "Type\tCount\n",
            "187\n",
            "0    72471\n",
            "1    15083\n",
            "Name: count, dtype: int64\n",
            "*************************************\n",
            "Count of all classes in test dataset\n",
            "Type\tCount\n",
            "187\n",
            "0    18118\n",
            "1     3774\n",
            "Name: count, dtype: int64\n"
          ]
        }
      ],
      "source": [
        "print('Count of all classes in training dataset')\n",
        "print(\"Type\\tCount\")\n",
        "print((train[187]).value_counts())\n",
        "\n",
        "print('*************************************')\n",
        "\n",
        "print('Count of all classes in test dataset')\n",
        "print(\"Type\\tCount\")\n",
        "print((test[187]).value_counts())"
      ]
    },
    {
      "cell_type": "code",
      "execution_count": null,
      "metadata": {
        "colab": {
          "base_uri": "https://localhost:8080/"
        },
        "id": "R50eTHwO68yA",
        "outputId": "64fd22d8-4375-442f-8629-ff514cf4b5fe"
      },
      "outputs": [
        {
          "name": "stdout",
          "output_type": "stream",
          "text": [
            "train shape :  (87554, 188)\n",
            "test shape :  (21892, 188)\n",
            "feature_train shape :  (87554, 187)\n",
            "labels_train shape :  (87554,)\n",
            "feature_test shape :  (21892, 187)\n",
            "labels_test shape :  (21892,)\n"
          ]
        }
      ],
      "source": [
        "print(\"train shape : \",train.shape)\n",
        "print(\"test shape : \",test.shape)\n",
        "\n",
        "feature_train=train.iloc[:,0:187]\n",
        "#feature_train=train.iloc[:,3]\n",
        "print(\"feature_train shape : \",feature_train.shape)\n",
        "\n",
        "labels_train=train.iloc[:,187]\n",
        "print(\"labels_train shape : \",labels_train.shape)\n",
        "\n",
        "feature_test=test.iloc[:,0:187]\n",
        "#feature_test=test.iloc[:,3]\n",
        "print(\"feature_test shape : \",feature_test.shape)\n",
        "\n",
        "labels_test=test.iloc[:,187]\n",
        "print(\"labels_test shape : \",labels_test.shape)"
      ]
    },
    {
      "cell_type": "code",
      "execution_count": null,
      "metadata": {
        "colab": {
          "base_uri": "https://localhost:8080/"
        },
        "id": "Rp8Bk9Ws68yB",
        "outputId": "e6afd0d9-6475-4a7a-b916-7bb50854552f"
      },
      "outputs": [
        {
          "name": "stdout",
          "output_type": "stream",
          "text": [
            "(87554, 187)\n",
            "(21892, 187)\n"
          ]
        }
      ],
      "source": [
        "from sklearn.preprocessing import StandardScaler\n",
        "standardized_training_data=StandardScaler().fit_transform(feature_train)\n",
        "feature_train=standardized_training_data\n",
        "print(feature_train.shape)\n",
        "\n",
        "standardized_test_data=StandardScaler().fit_transform(feature_test)\n",
        "feature_test=standardized_test_data\n",
        "print(feature_test.shape)\n",
        "\n"
      ]
    },
    {
      "cell_type": "code",
      "execution_count": null,
      "metadata": {
        "colab": {
          "base_uri": "https://localhost:8080/"
        },
        "id": "bU_4YI9gLB8p",
        "outputId": "588bb66c-30bc-437b-83ef-748aec954614"
      },
      "outputs": [
        {
          "name": "stdout",
          "output_type": "stream",
          "text": [
            "Requirement already satisfied: np_utils in /usr/local/lib/python3.10/dist-packages (0.6.0)\n",
            "Requirement already satisfied: numpy>=1.0 in /usr/local/lib/python3.10/dist-packages (from np_utils) (1.26.4)\n",
            "Requirement already satisfied: keras in /usr/local/lib/python3.10/dist-packages (3.6.0)\n",
            "Requirement already satisfied: absl-py in /usr/local/lib/python3.10/dist-packages (from keras) (1.4.0)\n",
            "Requirement already satisfied: numpy in /usr/local/lib/python3.10/dist-packages (from keras) (1.26.4)\n",
            "Requirement already satisfied: rich in /usr/local/lib/python3.10/dist-packages (from keras) (13.9.3)\n",
            "Requirement already satisfied: namex in /usr/local/lib/python3.10/dist-packages (from keras) (0.0.8)\n",
            "Requirement already satisfied: h5py in /usr/local/lib/python3.10/dist-packages (from keras) (3.11.0)\n",
            "Requirement already satisfied: optree in /usr/local/lib/python3.10/dist-packages (from keras) (0.13.0)\n",
            "Requirement already satisfied: ml-dtypes in /usr/local/lib/python3.10/dist-packages (from keras) (0.4.1)\n",
            "Requirement already satisfied: packaging in /usr/local/lib/python3.10/dist-packages (from keras) (24.1)\n",
            "Requirement already satisfied: typing-extensions>=4.5.0 in /usr/local/lib/python3.10/dist-packages (from optree->keras) (4.12.2)\n",
            "Requirement already satisfied: markdown-it-py>=2.2.0 in /usr/local/lib/python3.10/dist-packages (from rich->keras) (3.0.0)\n",
            "Requirement already satisfied: pygments<3.0.0,>=2.13.0 in /usr/local/lib/python3.10/dist-packages (from rich->keras) (2.18.0)\n",
            "Requirement already satisfied: mdurl~=0.1 in /usr/local/lib/python3.10/dist-packages (from markdown-it-py>=2.2.0->rich->keras) (0.1.2)\n",
            "Requirement already satisfied: keras in /usr/local/lib/python3.10/dist-packages (3.6.0)\n",
            "Requirement already satisfied: absl-py in /usr/local/lib/python3.10/dist-packages (from keras) (1.4.0)\n",
            "Requirement already satisfied: numpy in /usr/local/lib/python3.10/dist-packages (from keras) (1.26.4)\n",
            "Requirement already satisfied: rich in /usr/local/lib/python3.10/dist-packages (from keras) (13.9.3)\n",
            "Requirement already satisfied: namex in /usr/local/lib/python3.10/dist-packages (from keras) (0.0.8)\n",
            "Requirement already satisfied: h5py in /usr/local/lib/python3.10/dist-packages (from keras) (3.11.0)\n",
            "Requirement already satisfied: optree in /usr/local/lib/python3.10/dist-packages (from keras) (0.13.0)\n",
            "Requirement already satisfied: ml-dtypes in /usr/local/lib/python3.10/dist-packages (from keras) (0.4.1)\n",
            "Requirement already satisfied: packaging in /usr/local/lib/python3.10/dist-packages (from keras) (24.1)\n",
            "Requirement already satisfied: typing-extensions>=4.5.0 in /usr/local/lib/python3.10/dist-packages (from optree->keras) (4.12.2)\n",
            "Requirement already satisfied: markdown-it-py>=2.2.0 in /usr/local/lib/python3.10/dist-packages (from rich->keras) (3.0.0)\n",
            "Requirement already satisfied: pygments<3.0.0,>=2.13.0 in /usr/local/lib/python3.10/dist-packages (from rich->keras) (2.18.0)\n",
            "Requirement already satisfied: mdurl~=0.1 in /usr/local/lib/python3.10/dist-packages (from markdown-it-py>=2.2.0->rich->keras) (0.1.2)\n"
          ]
        }
      ],
      "source": [
        "!pip install np_utils\n",
        "!pip install keras --upgrade\n",
        "!pip install keras\n",
        "\n"
      ]
    },
    {
      "cell_type": "code",
      "execution_count": null,
      "metadata": {
        "id": "_d9BiG2368yB"
      },
      "outputs": [],
      "source": [
        "x_train1=feature_train\n",
        "x_test1=feature_test\n",
        "y_train1=labels_train\n",
        "y_test1=labels_test"
      ]
    },
    {
      "cell_type": "code",
      "execution_count": null,
      "metadata": {
        "id": "TqwiJw7A68yB"
      },
      "outputs": [],
      "source": [
        "# Add an Extra Dimension\n",
        "x_train1=x_train1.reshape(x_train1.shape[0],1,x_train1.shape[1])\n",
        "x_test1=x_test1.reshape(x_test1.shape[0],1,x_test1.shape[1])\n"
      ]
    },
    {
      "cell_type": "code",
      "execution_count": null,
      "metadata": {
        "colab": {
          "base_uri": "https://localhost:8080/"
        },
        "id": "_tqWqKAYiizp",
        "outputId": "7d89f904-a6f0-4ef6-d891-9234a03c65bc"
      },
      "outputs": [
        {
          "name": "stdout",
          "output_type": "stream",
          "text": [
            "TensorFlow version: 2.18.0\n",
            "Keras version: 3.6.0\n",
            "Labels (categorical): [[1. 0.]\n",
            " [0. 1.]]\n"
          ]
        }
      ],
      "source": [
        "import tensorflow as tf\n",
        "from tensorflow import keras\n",
        "from tensorflow.keras.utils import to_categorical\n",
        "import numpy as np\n",
        "import seaborn as sns\n",
        "\n",
        "# Sample code to verify functionality\n",
        "print(f\"TensorFlow version: {tf.__version__}\")\n",
        "print(f\"Keras version: {keras.__version__}\")\n",
        "\n",
        "# Create some sample data\n",
        "data = np.array([[1, 2, 3], [4, 5, 6]])\n",
        "labels = np.array([0, 1])\n",
        "\n",
        "# One-hot encoding of labels\n",
        "labels_categorical = to_categorical(labels)\n",
        "\n",
        "print(\"Labels (categorical):\", labels_categorical)\n"
      ]
    },
    {
      "cell_type": "code",
      "execution_count": null,
      "metadata": {
        "colab": {
          "base_uri": "https://localhost:8080/"
        },
        "id": "mTP2kxXX68yC",
        "outputId": "b0a04cbb-aac9-45df-a745-3da83fa679bc"
      },
      "outputs": [
        {
          "name": "stdout",
          "output_type": "stream",
          "text": [
            "Class label of first sample: 1\n",
            "After converting the output into a vector :  [0. 1.]\n"
          ]
        }
      ],
      "source": [
        "import numpy as np\n",
        "import tensorflow.keras as keras\n",
        "from tensorflow.keras.utils import to_categorical\n",
        "import seaborn as sns\n",
        "from tensorflow.keras.initializers import RandomNormal\n",
        "from tensorflow.keras.models import Sequential\n",
        "from tensorflow.keras.layers import Dense, LSTM, Embedding\n",
        "from tensorflow.keras.preprocessing import sequence\n",
        "\n",
        "# fixed random seed for reproducibility\n",
        "np.random.seed(7)\n",
        "\n",
        "# here we are having a class number for each sample\n",
        "print(\"Class label of first sample:\", y_train1[83456])\n",
        "\n",
        "# lets convert this into a 10 dimensional vector\n",
        "# ex: consider an image is 5 convert it into 5 => [0, 0, 0, 0, 0, 1, 0, 0, 0, 0]\n",
        "Y_train = to_categorical(label_train, 2)\n",
        "Y_test = to_categorical(label_test, 2)\n",
        "Y_train = to_categorical(y_train1)\n",
        "print(\"After converting the output into a vector : \", Y_train[83456])\n",
        "Y_test = to_categorical(y_test1)\n"
      ]
    },
    {
      "cell_type": "code",
      "execution_count": null,
      "metadata": {
        "colab": {
          "base_uri": "https://localhost:8080/"
        },
        "id": "-DyyGqWu68yC",
        "outputId": "663a2f52-46fd-41ac-ed7b-cb052a022fab"
      },
      "outputs": [
        {
          "name": "stdout",
          "output_type": "stream",
          "text": [
            "feature_train (87554, 1, 187)\n",
            "Y_train (87554, 2)\n",
            "feature_test (21892, 1, 187)\n",
            "Y_test (21892, 2)\n"
          ]
        }
      ],
      "source": [
        "\n",
        "print(\"feature_train\",x_train1.shape)\n",
        "print(\"Y_train\",Y_train.shape)\n",
        "print(\"feature_test\",x_test1.shape)\n",
        "print(\"Y_test\",Y_test.shape)"
      ]
    },
    {
      "cell_type": "code",
      "execution_count": null,
      "metadata": {
        "colab": {
          "base_uri": "https://localhost:8080/"
        },
        "id": "h28oJRxc68yC",
        "outputId": "dbea579b-204b-4a30-c32d-25f38bf4ec2f"
      },
      "outputs": [
        {
          "name": "stderr",
          "output_type": "stream",
          "text": [
            "/usr/local/lib/python3.10/dist-packages/keras/src/layers/core/dense.py:87: UserWarning: Do not pass an `input_shape`/`input_dim` argument to a layer. When using Sequential models, prefer using an `Input(shape)` object as the first layer in the model instead.\n",
            "  super().__init__(activity_regularizer=activity_regularizer, **kwargs)\n"
          ]
        }
      ],
      "source": [
        "output_dim = 2\n",
        "input_dim = feature_train.shape[1]\n",
        "\n",
        "batch_size = 512\n",
        "nb_epoch = 100\n",
        "\n",
        "model_lstm =Sequential()\n",
        "#model_lstm.add(Embedding)\n",
        "model_lstm.add(LSTM(100))\n",
        "model_lstm.add(Dense(output_dim, input_dim=input_dim, activation='softmax'))\n",
        "\n",
        "#model_lstm.summary()\n",
        "\n",
        "model_lstm.compile(loss='binary_crossentropy', optimizer='adam',metrics=['accuracy'])\n",
        "\n"
      ]
    },
    {
      "cell_type": "code",
      "execution_count": null,
      "metadata": {
        "colab": {
          "background_save": true,
          "base_uri": "https://localhost:8080/"
        },
        "id": "IOCIBgQ_68yC",
        "outputId": "c654a2a7-b1eb-4d72-f1b0-9f09d8822e5f"
      },
      "outputs": [
        {
          "name": "stdout",
          "output_type": "stream",
          "text": [
            "Epoch 1/100\n",
            "\u001b[1m172/172\u001b[0m \u001b[32m━━━━━━━━━━━━━━━━━━━━\u001b[0m\u001b[37m\u001b[0m \u001b[1m6s\u001b[0m 12ms/step - accuracy: 0.8576 - loss: 0.3691\n",
            "Epoch 2/100\n",
            "\u001b[1m172/172\u001b[0m \u001b[32m━━━━━━━━━━━━━━━━━━━━\u001b[0m\u001b[37m\u001b[0m \u001b[1m3s\u001b[0m 13ms/step - accuracy: 0.9517 - loss: 0.1545\n",
            "Epoch 3/100\n",
            "\u001b[1m172/172\u001b[0m \u001b[32m━━━━━━━━━━━━━━━━━━━━\u001b[0m\u001b[37m\u001b[0m \u001b[1m2s\u001b[0m 14ms/step - accuracy: 0.9610 - loss: 0.1280\n",
            "Epoch 4/100\n",
            "\u001b[1m172/172\u001b[0m \u001b[32m━━━━━━━━━━━━━━━━━━━━\u001b[0m\u001b[37m\u001b[0m \u001b[1m3s\u001b[0m 14ms/step - accuracy: 0.9651 - loss: 0.1153\n",
            "Epoch 5/100\n",
            "\u001b[1m172/172\u001b[0m \u001b[32m━━━━━━━━━━━━━━━━━━━━\u001b[0m\u001b[37m\u001b[0m \u001b[1m4s\u001b[0m 23ms/step - accuracy: 0.9710 - loss: 0.0932\n",
            "Epoch 6/100\n",
            "\u001b[1m172/172\u001b[0m \u001b[32m━━━━━━━━━━━━━━━━━━━━\u001b[0m\u001b[37m\u001b[0m \u001b[1m3s\u001b[0m 18ms/step - accuracy: 0.9721 - loss: 0.0882\n",
            "Epoch 7/100\n",
            "\u001b[1m172/172\u001b[0m \u001b[32m━━━━━━━━━━━━━━━━━━━━\u001b[0m\u001b[37m\u001b[0m \u001b[1m4s\u001b[0m 13ms/step - accuracy: 0.9746 - loss: 0.0803\n",
            "Epoch 8/100\n",
            "\u001b[1m172/172\u001b[0m \u001b[32m━━━━━━━━━━━━━━━━━━━━\u001b[0m\u001b[37m\u001b[0m \u001b[1m2s\u001b[0m 14ms/step - accuracy: 0.9768 - loss: 0.0742\n",
            "Epoch 9/100\n",
            "\u001b[1m172/172\u001b[0m \u001b[32m━━━━━━━━━━━━━━━━━━━━\u001b[0m\u001b[37m\u001b[0m \u001b[1m2s\u001b[0m 13ms/step - accuracy: 0.9781 - loss: 0.0688\n",
            "Epoch 10/100\n",
            "\u001b[1m172/172\u001b[0m \u001b[32m━━━━━━━━━━━━━━━━━━━━\u001b[0m\u001b[37m\u001b[0m \u001b[1m4s\u001b[0m 22ms/step - accuracy: 0.9804 - loss: 0.0631\n",
            "Epoch 11/100\n",
            "\u001b[1m172/172\u001b[0m \u001b[32m━━━━━━━━━━━━━━━━━━━━\u001b[0m\u001b[37m\u001b[0m \u001b[1m3s\u001b[0m 18ms/step - accuracy: 0.9818 - loss: 0.0600\n",
            "Epoch 12/100\n",
            "\u001b[1m172/172\u001b[0m \u001b[32m━━━━━━━━━━━━━━━━━━━━\u001b[0m\u001b[37m\u001b[0m \u001b[1m4s\u001b[0m 13ms/step - accuracy: 0.9831 - loss: 0.0541\n",
            "Epoch 13/100\n",
            "\u001b[1m172/172\u001b[0m \u001b[32m━━━━━━━━━━━━━━━━━━━━\u001b[0m\u001b[37m\u001b[0m \u001b[1m3s\u001b[0m 14ms/step - accuracy: 0.9838 - loss: 0.0536\n",
            "Epoch 14/100\n",
            "\u001b[1m172/172\u001b[0m \u001b[32m━━━━━━━━━━━━━━━━━━━━\u001b[0m\u001b[37m\u001b[0m \u001b[1m2s\u001b[0m 13ms/step - accuracy: 0.9834 - loss: 0.0546\n",
            "Epoch 15/100\n",
            "\u001b[1m172/172\u001b[0m \u001b[32m━━━━━━━━━━━━━━━━━━━━\u001b[0m\u001b[37m\u001b[0m \u001b[1m4s\u001b[0m 23ms/step - accuracy: 0.9777 - loss: 0.0670\n",
            "Epoch 16/100\n",
            "\u001b[1m172/172\u001b[0m \u001b[32m━━━━━━━━━━━━━━━━━━━━\u001b[0m\u001b[37m\u001b[0m \u001b[1m4s\u001b[0m 14ms/step - accuracy: 0.9856 - loss: 0.0467\n",
            "Epoch 17/100\n",
            "\u001b[1m172/172\u001b[0m \u001b[32m━━━━━━━━━━━━━━━━━━━━\u001b[0m\u001b[37m\u001b[0m \u001b[1m2s\u001b[0m 13ms/step - accuracy: 0.9855 - loss: 0.0460\n",
            "Epoch 18/100\n",
            "\u001b[1m172/172\u001b[0m \u001b[32m━━━━━━━━━━━━━━━━━━━━\u001b[0m\u001b[37m\u001b[0m \u001b[1m2s\u001b[0m 12ms/step - accuracy: 0.9867 - loss: 0.0433\n",
            "Epoch 19/100\n",
            "\u001b[1m172/172\u001b[0m \u001b[32m━━━━━━━━━━━━━━━━━━━━\u001b[0m\u001b[37m\u001b[0m \u001b[1m2s\u001b[0m 14ms/step - accuracy: 0.9872 - loss: 0.0415\n",
            "Epoch 20/100\n",
            "\u001b[1m172/172\u001b[0m \u001b[32m━━━━━━━━━━━━━━━━━━━━\u001b[0m\u001b[37m\u001b[0m \u001b[1m4s\u001b[0m 22ms/step - accuracy: 0.9872 - loss: 0.0397\n",
            "Epoch 21/100\n",
            "\u001b[1m172/172\u001b[0m \u001b[32m━━━━━━━━━━━━━━━━━━━━\u001b[0m\u001b[37m\u001b[0m \u001b[1m3s\u001b[0m 20ms/step - accuracy: 0.9882 - loss: 0.0373\n",
            "Epoch 22/100\n",
            "\u001b[1m172/172\u001b[0m \u001b[32m━━━━━━━━━━━━━━━━━━━━\u001b[0m\u001b[37m\u001b[0m \u001b[1m2s\u001b[0m 14ms/step - accuracy: 0.9885 - loss: 0.0371\n",
            "Epoch 23/100\n",
            "\u001b[1m172/172\u001b[0m \u001b[32m━━━━━━━━━━━━━━━━━━━━\u001b[0m\u001b[37m\u001b[0m \u001b[1m2s\u001b[0m 13ms/step - accuracy: 0.9884 - loss: 0.0369\n",
            "Epoch 24/100\n",
            "\u001b[1m172/172\u001b[0m \u001b[32m━━━━━━━━━━━━━━━━━━━━\u001b[0m\u001b[37m\u001b[0m \u001b[1m3s\u001b[0m 18ms/step - accuracy: 0.9899 - loss: 0.0333\n",
            "Epoch 25/100\n",
            "\u001b[1m172/172\u001b[0m \u001b[32m━━━━━━━━━━━━━━━━━━━━\u001b[0m\u001b[37m\u001b[0m \u001b[1m4s\u001b[0m 25ms/step - accuracy: 0.9904 - loss: 0.0324\n",
            "Epoch 26/100\n",
            "\u001b[1m172/172\u001b[0m \u001b[32m━━━━━━━━━━━━━━━━━━━━\u001b[0m\u001b[37m\u001b[0m \u001b[1m4s\u001b[0m 25ms/step - accuracy: 0.9907 - loss: 0.0308\n",
            "Epoch 27/100\n",
            "\u001b[1m172/172\u001b[0m \u001b[32m━━━━━━━━━━━━━━━━━━━━\u001b[0m\u001b[37m\u001b[0m \u001b[1m3s\u001b[0m 15ms/step - accuracy: 0.9909 - loss: 0.0298\n",
            "Epoch 28/100\n",
            "\u001b[1m172/172\u001b[0m \u001b[32m━━━━━━━━━━━━━━━━━━━━\u001b[0m\u001b[37m\u001b[0m \u001b[1m2s\u001b[0m 13ms/step - accuracy: 0.9893 - loss: 0.0338\n",
            "Epoch 29/100\n",
            "\u001b[1m172/172\u001b[0m \u001b[32m━━━━━━━━━━━━━━━━━━━━\u001b[0m\u001b[37m\u001b[0m \u001b[1m2s\u001b[0m 13ms/step - accuracy: 0.9913 - loss: 0.0285\n",
            "Epoch 30/100\n",
            "\u001b[1m172/172\u001b[0m \u001b[32m━━━━━━━━━━━━━━━━━━━━\u001b[0m\u001b[37m\u001b[0m \u001b[1m2s\u001b[0m 13ms/step - accuracy: 0.9914 - loss: 0.0280\n",
            "Epoch 31/100\n",
            "\u001b[1m172/172\u001b[0m \u001b[32m━━━━━━━━━━━━━━━━━━━━\u001b[0m\u001b[37m\u001b[0m \u001b[1m3s\u001b[0m 18ms/step - accuracy: 0.9926 - loss: 0.0249\n",
            "Epoch 32/100\n",
            "\u001b[1m172/172\u001b[0m \u001b[32m━━━━━━━━━━━━━━━━━━━━\u001b[0m\u001b[37m\u001b[0m \u001b[1m4s\u001b[0m 20ms/step - accuracy: 0.9927 - loss: 0.0242\n",
            "Epoch 33/100\n",
            "\u001b[1m172/172\u001b[0m \u001b[32m━━━━━━━━━━━━━━━━━━━━\u001b[0m\u001b[37m\u001b[0m \u001b[1m2s\u001b[0m 14ms/step - accuracy: 0.9932 - loss: 0.0235\n",
            "Epoch 34/100\n",
            "\u001b[1m172/172\u001b[0m \u001b[32m━━━━━━━━━━━━━━━━━━━━\u001b[0m\u001b[37m\u001b[0m \u001b[1m2s\u001b[0m 14ms/step - accuracy: 0.9936 - loss: 0.0227\n",
            "Epoch 35/100\n",
            "\u001b[1m172/172\u001b[0m \u001b[32m━━━━━━━━━━━━━━━━━━━━\u001b[0m\u001b[37m\u001b[0m \u001b[1m3s\u001b[0m 15ms/step - accuracy: 0.9937 - loss: 0.0210\n",
            "Epoch 36/100\n",
            "\u001b[1m172/172\u001b[0m \u001b[32m━━━━━━━━━━━━━━━━━━━━\u001b[0m\u001b[37m\u001b[0m \u001b[1m3s\u001b[0m 15ms/step - accuracy: 0.9938 - loss: 0.0214\n",
            "Epoch 37/100\n",
            "\u001b[1m172/172\u001b[0m \u001b[32m━━━━━━━━━━━━━━━━━━━━\u001b[0m\u001b[37m\u001b[0m \u001b[1m5s\u001b[0m 14ms/step - accuracy: 0.9940 - loss: 0.0201\n",
            "Epoch 38/100\n",
            "\u001b[1m172/172\u001b[0m \u001b[32m━━━━━━━━━━━━━━━━━━━━\u001b[0m\u001b[37m\u001b[0m \u001b[1m3s\u001b[0m 15ms/step - accuracy: 0.9938 - loss: 0.0199\n",
            "Epoch 39/100\n",
            "\u001b[1m172/172\u001b[0m \u001b[32m━━━━━━━━━━━━━━━━━━━━\u001b[0m\u001b[37m\u001b[0m \u001b[1m5s\u001b[0m 15ms/step - accuracy: 0.9945 - loss: 0.0187\n",
            "Epoch 40/100\n",
            "\u001b[1m172/172\u001b[0m \u001b[32m━━━━━━━━━━━━━━━━━━━━\u001b[0m\u001b[37m\u001b[0m \u001b[1m7s\u001b[0m 24ms/step - accuracy: 0.9946 - loss: 0.0189\n",
            "Epoch 41/100\n",
            "\u001b[1m172/172\u001b[0m \u001b[32m━━━━━━━━━━━━━━━━━━━━\u001b[0m\u001b[37m\u001b[0m \u001b[1m5s\u001b[0m 26ms/step - accuracy: 0.9951 - loss: 0.0170\n",
            "Epoch 42/100\n",
            "\u001b[1m172/172\u001b[0m \u001b[32m━━━━━━━━━━━━━━━━━━━━\u001b[0m\u001b[37m\u001b[0m \u001b[1m3s\u001b[0m 15ms/step - accuracy: 0.9953 - loss: 0.0165\n",
            "Epoch 43/100\n",
            "\u001b[1m172/172\u001b[0m \u001b[32m━━━━━━━━━━━━━━━━━━━━\u001b[0m\u001b[37m\u001b[0m \u001b[1m4s\u001b[0m 23ms/step - accuracy: 0.9956 - loss: 0.0158\n",
            "Epoch 44/100\n",
            "\u001b[1m172/172\u001b[0m \u001b[32m━━━━━━━━━━━━━━━━━━━━\u001b[0m\u001b[37m\u001b[0m \u001b[1m4s\u001b[0m 14ms/step - accuracy: 0.9954 - loss: 0.0162\n",
            "Epoch 45/100\n",
            "\u001b[1m172/172\u001b[0m \u001b[32m━━━━━━━━━━━━━━━━━━━━\u001b[0m\u001b[37m\u001b[0m \u001b[1m3s\u001b[0m 15ms/step - accuracy: 0.9955 - loss: 0.0155\n",
            "Epoch 46/100\n",
            "\u001b[1m172/172\u001b[0m \u001b[32m━━━━━━━━━━━━━━━━━━━━\u001b[0m\u001b[37m\u001b[0m \u001b[1m3s\u001b[0m 15ms/step - accuracy: 0.9958 - loss: 0.0149\n",
            "Epoch 47/100\n",
            "\u001b[1m172/172\u001b[0m \u001b[32m━━━━━━━━━━━━━━━━━━━━\u001b[0m\u001b[37m\u001b[0m \u001b[1m3s\u001b[0m 16ms/step - accuracy: 0.9961 - loss: 0.0147\n",
            "Epoch 48/100\n",
            "\u001b[1m172/172\u001b[0m \u001b[32m━━━━━━━━━━━━━━━━━━━━\u001b[0m\u001b[37m\u001b[0m \u001b[1m4s\u001b[0m 24ms/step - accuracy: 0.9962 - loss: 0.0138\n",
            "Epoch 49/100\n",
            "\u001b[1m172/172\u001b[0m \u001b[32m━━━━━━━━━━━━━━━━━━━━\u001b[0m\u001b[37m\u001b[0m \u001b[1m4s\u001b[0m 15ms/step - accuracy: 0.9962 - loss: 0.0137\n",
            "Epoch 50/100\n",
            "\u001b[1m172/172\u001b[0m \u001b[32m━━━━━━━━━━━━━━━━━━━━\u001b[0m\u001b[37m\u001b[0m \u001b[1m5s\u001b[0m 14ms/step - accuracy: 0.9964 - loss: 0.0126\n",
            "Epoch 51/100\n",
            "\u001b[1m172/172\u001b[0m \u001b[32m━━━━━━━━━━━━━━━━━━━━\u001b[0m\u001b[37m\u001b[0m \u001b[1m3s\u001b[0m 16ms/step - accuracy: 0.9966 - loss: 0.0125\n",
            "Epoch 52/100\n",
            "\u001b[1m172/172\u001b[0m \u001b[32m━━━━━━━━━━━━━━━━━━━━\u001b[0m\u001b[37m\u001b[0m \u001b[1m4s\u001b[0m 23ms/step - accuracy: 0.9964 - loss: 0.0126\n",
            "Epoch 53/100\n",
            "\u001b[1m172/172\u001b[0m \u001b[32m━━━━━━━━━━━━━━━━━━━━\u001b[0m\u001b[37m\u001b[0m \u001b[1m3s\u001b[0m 18ms/step - accuracy: 0.9969 - loss: 0.0116\n",
            "Epoch 54/100\n",
            "\u001b[1m172/172\u001b[0m \u001b[32m━━━━━━━━━━━━━━━━━━━━\u001b[0m\u001b[37m\u001b[0m \u001b[1m3s\u001b[0m 15ms/step - accuracy: 0.9973 - loss: 0.0114\n",
            "Epoch 55/100\n",
            "\u001b[1m172/172\u001b[0m \u001b[32m━━━━━━━━━━━━━━━━━━━━\u001b[0m\u001b[37m\u001b[0m \u001b[1m5s\u001b[0m 13ms/step - accuracy: 0.9972 - loss: 0.0104\n",
            "Epoch 56/100\n",
            "\u001b[1m172/172\u001b[0m \u001b[32m━━━━━━━━━━━━━━━━━━━━\u001b[0m\u001b[37m\u001b[0m \u001b[1m4s\u001b[0m 20ms/step - accuracy: 0.9975 - loss: 0.0102\n",
            "Epoch 57/100\n",
            "\u001b[1m172/172\u001b[0m \u001b[32m━━━━━━━━━━━━━━━━━━━━\u001b[0m\u001b[37m\u001b[0m \u001b[1m4s\u001b[0m 24ms/step - accuracy: 0.9975 - loss: 0.0104\n",
            "Epoch 58/100\n",
            "\u001b[1m172/172\u001b[0m \u001b[32m━━━━━━━━━━━━━━━━━━━━\u001b[0m\u001b[37m\u001b[0m \u001b[1m3s\u001b[0m 12ms/step - accuracy: 0.9971 - loss: 0.0110\n",
            "Epoch 59/100\n",
            "\u001b[1m172/172\u001b[0m \u001b[32m━━━━━━━━━━━━━━━━━━━━\u001b[0m\u001b[37m\u001b[0m \u001b[1m3s\u001b[0m 14ms/step - accuracy: 0.9978 - loss: 0.0094\n",
            "Epoch 60/100\n",
            "\u001b[1m172/172\u001b[0m \u001b[32m━━━━━━━━━━━━━━━━━━━━\u001b[0m\u001b[37m\u001b[0m \u001b[1m3s\u001b[0m 14ms/step - accuracy: 0.9960 - loss: 0.0150\n",
            "Epoch 61/100\n",
            "\u001b[1m172/172\u001b[0m \u001b[32m━━━━━━━━━━━━━━━━━━━━\u001b[0m\u001b[37m\u001b[0m \u001b[1m3s\u001b[0m 19ms/step - accuracy: 0.9978 - loss: 0.0090\n",
            "Epoch 62/100\n",
            "\u001b[1m172/172\u001b[0m \u001b[32m━━━━━━━━━━━━━━━━━━━━\u001b[0m\u001b[37m\u001b[0m \u001b[1m4s\u001b[0m 24ms/step - accuracy: 0.9961 - loss: 0.0132\n",
            "Epoch 63/100\n",
            "\u001b[1m172/172\u001b[0m \u001b[32m━━━━━━━━━━━━━━━━━━━━\u001b[0m\u001b[37m\u001b[0m \u001b[1m3s\u001b[0m 15ms/step - accuracy: 0.9981 - loss: 0.0080\n",
            "Epoch 64/100\n",
            "\u001b[1m172/172\u001b[0m \u001b[32m━━━━━━━━━━━━━━━━━━━━\u001b[0m\u001b[37m\u001b[0m \u001b[1m5s\u001b[0m 13ms/step - accuracy: 0.9984 - loss: 0.0073\n",
            "Epoch 65/100\n",
            "\u001b[1m172/172\u001b[0m \u001b[32m━━━━━━━━━━━━━━━━━━━━\u001b[0m\u001b[37m\u001b[0m \u001b[1m3s\u001b[0m 14ms/step - accuracy: 0.9976 - loss: 0.0087\n",
            "Epoch 66/100\n",
            "\u001b[1m172/172\u001b[0m \u001b[32m━━━━━━━━━━━━━━━━━━━━\u001b[0m\u001b[37m\u001b[0m \u001b[1m4s\u001b[0m 23ms/step - accuracy: 0.9975 - loss: 0.0094\n",
            "Epoch 67/100\n",
            "\u001b[1m172/172\u001b[0m \u001b[32m━━━━━━━━━━━━━━━━━━━━\u001b[0m\u001b[37m\u001b[0m \u001b[1m4s\u001b[0m 14ms/step - accuracy: 0.9979 - loss: 0.0084\n",
            "Epoch 68/100\n",
            "\u001b[1m172/172\u001b[0m \u001b[32m━━━━━━━━━━━━━━━━━━━━\u001b[0m\u001b[37m\u001b[0m \u001b[1m3s\u001b[0m 15ms/step - accuracy: 0.9983 - loss: 0.0075\n",
            "Epoch 69/100\n",
            "\u001b[1m172/172\u001b[0m \u001b[32m━━━━━━━━━━━━━━━━━━━━\u001b[0m\u001b[37m\u001b[0m \u001b[1m3s\u001b[0m 16ms/step - accuracy: 0.9984 - loss: 0.0068\n",
            "Epoch 70/100\n",
            "\u001b[1m172/172\u001b[0m \u001b[32m━━━━━━━━━━━━━━━━━━━━\u001b[0m\u001b[37m\u001b[0m \u001b[1m6s\u001b[0m 23ms/step - accuracy: 0.9984 - loss: 0.0072\n",
            "Epoch 71/100\n",
            "\u001b[1m172/172\u001b[0m \u001b[32m━━━━━━━━━━━━━━━━━━━━\u001b[0m\u001b[37m\u001b[0m \u001b[1m4s\u001b[0m 14ms/step - accuracy: 0.9982 - loss: 0.0068\n",
            "Epoch 72/100\n",
            "\u001b[1m172/172\u001b[0m \u001b[32m━━━━━━━━━━━━━━━━━━━━\u001b[0m\u001b[37m\u001b[0m \u001b[1m2s\u001b[0m 14ms/step - accuracy: 0.9979 - loss: 0.0077\n",
            "Epoch 73/100\n",
            "\u001b[1m172/172\u001b[0m \u001b[32m━━━━━━━━━━━━━━━━━━━━\u001b[0m\u001b[37m\u001b[0m \u001b[1m3s\u001b[0m 14ms/step - accuracy: 0.9985 - loss: 0.0063\n",
            "Epoch 74/100\n",
            "\u001b[1m172/172\u001b[0m \u001b[32m━━━━━━━━━━━━━━━━━━━━\u001b[0m\u001b[37m\u001b[0m \u001b[1m3s\u001b[0m 16ms/step - accuracy: 0.9988 - loss: 0.0058\n",
            "Epoch 75/100\n",
            "\u001b[1m172/172\u001b[0m \u001b[32m━━━━━━━━━━━━━━━━━━━━\u001b[0m\u001b[37m\u001b[0m \u001b[1m4s\u001b[0m 22ms/step - accuracy: 0.9986 - loss: 0.0061\n",
            "Epoch 76/100\n",
            "\u001b[1m172/172\u001b[0m \u001b[32m━━━━━━━━━━━━━━━━━━━━\u001b[0m\u001b[37m\u001b[0m \u001b[1m4s\u001b[0m 14ms/step - accuracy: 0.9988 - loss: 0.0057\n",
            "Epoch 77/100\n",
            "\u001b[1m172/172\u001b[0m \u001b[32m━━━━━━━━━━━━━━━━━━━━\u001b[0m\u001b[37m\u001b[0m \u001b[1m3s\u001b[0m 14ms/step - accuracy: 0.9984 - loss: 0.0063\n",
            "Epoch 78/100\n",
            "\u001b[1m172/172\u001b[0m \u001b[32m━━━━━━━━━━━━━━━━━━━━\u001b[0m\u001b[37m\u001b[0m \u001b[1m3s\u001b[0m 14ms/step - accuracy: 0.9987 - loss: 0.0055\n",
            "Epoch 79/100\n",
            "\u001b[1m172/172\u001b[0m \u001b[32m━━━━━━━━━━━━━━━━━━━━\u001b[0m\u001b[37m\u001b[0m \u001b[1m3s\u001b[0m 16ms/step - accuracy: 0.9986 - loss: 0.0056\n",
            "Epoch 80/100\n",
            "\u001b[1m172/172\u001b[0m \u001b[32m━━━━━━━━━━━━━━━━━━━━\u001b[0m\u001b[37m\u001b[0m \u001b[1m5s\u001b[0m 13ms/step - accuracy: 0.9989 - loss: 0.0050\n",
            "Epoch 81/100\n",
            "\u001b[1m172/172\u001b[0m \u001b[32m━━━━━━━━━━━━━━━━━━━━\u001b[0m\u001b[37m\u001b[0m \u001b[1m3s\u001b[0m 14ms/step - accuracy: 0.9986 - loss: 0.0059\n",
            "Epoch 82/100\n",
            "\u001b[1m172/172\u001b[0m \u001b[32m━━━━━━━━━━━━━━━━━━━━\u001b[0m\u001b[37m\u001b[0m \u001b[1m2s\u001b[0m 14ms/step - accuracy: 0.9988 - loss: 0.0049\n",
            "Epoch 83/100\n",
            "\u001b[1m172/172\u001b[0m \u001b[32m━━━━━━━━━━━━━━━━━━━━\u001b[0m\u001b[37m\u001b[0m \u001b[1m2s\u001b[0m 14ms/step - accuracy: 0.9990 - loss: 0.0050\n",
            "Epoch 84/100\n",
            "\u001b[1m172/172\u001b[0m \u001b[32m━━━━━━━━━━━━━━━━━━━━\u001b[0m\u001b[37m\u001b[0m \u001b[1m4s\u001b[0m 24ms/step - accuracy: 0.9987 - loss: 0.0051\n",
            "Epoch 85/100\n",
            "\u001b[1m172/172\u001b[0m \u001b[32m━━━━━━━━━━━━━━━━━━━━\u001b[0m\u001b[37m\u001b[0m \u001b[1m3s\u001b[0m 20ms/step - accuracy: 0.9989 - loss: 0.0048\n",
            "Epoch 86/100\n",
            "\u001b[1m172/172\u001b[0m \u001b[32m━━━━━━━━━━━━━━━━━━━━\u001b[0m\u001b[37m\u001b[0m \u001b[1m4s\u001b[0m 13ms/step - accuracy: 0.9990 - loss: 0.0045\n",
            "Epoch 87/100\n",
            "\u001b[1m172/172\u001b[0m \u001b[32m━━━━━━━━━━━━━━━━━━━━\u001b[0m\u001b[37m\u001b[0m \u001b[1m3s\u001b[0m 15ms/step - accuracy: 0.9990 - loss: 0.0045\n",
            "Epoch 88/100\n",
            "\u001b[1m172/172\u001b[0m \u001b[32m━━━━━━━━━━━━━━━━━━━━\u001b[0m\u001b[37m\u001b[0m \u001b[1m2s\u001b[0m 14ms/step - accuracy: 0.9991 - loss: 0.0044\n",
            "Epoch 89/100\n",
            "\u001b[1m172/172\u001b[0m \u001b[32m━━━━━━━━━━━━━━━━━━━━\u001b[0m\u001b[37m\u001b[0m \u001b[1m4s\u001b[0m 22ms/step - accuracy: 0.9992 - loss: 0.0046\n",
            "Epoch 90/100\n",
            "\u001b[1m172/172\u001b[0m \u001b[32m━━━━━━━━━━━━━━━━━━━━\u001b[0m\u001b[37m\u001b[0m \u001b[1m4s\u001b[0m 14ms/step - accuracy: 0.9991 - loss: 0.0039\n",
            "Epoch 91/100\n",
            "\u001b[1m172/172\u001b[0m \u001b[32m━━━━━━━━━━━━━━━━━━━━\u001b[0m\u001b[37m\u001b[0m \u001b[1m3s\u001b[0m 14ms/step - accuracy: 0.9991 - loss: 0.0038\n",
            "Epoch 92/100\n",
            "\u001b[1m172/172\u001b[0m \u001b[32m━━━━━━━━━━━━━━━━━━━━\u001b[0m\u001b[37m\u001b[0m \u001b[1m3s\u001b[0m 14ms/step - accuracy: 0.9993 - loss: 0.0037\n",
            "Epoch 93/100\n",
            "\u001b[1m172/172\u001b[0m \u001b[32m━━━━━━━━━━━━━━━━━━━━\u001b[0m\u001b[37m\u001b[0m \u001b[1m3s\u001b[0m 15ms/step - accuracy: 0.9991 - loss: 0.0040\n",
            "Epoch 94/100\n",
            "\u001b[1m172/172\u001b[0m \u001b[32m━━━━━━━━━━━━━━━━━━━━\u001b[0m\u001b[37m\u001b[0m \u001b[1m4s\u001b[0m 24ms/step - accuracy: 0.9990 - loss: 0.0040\n",
            "Epoch 95/100\n",
            "\u001b[1m172/172\u001b[0m \u001b[32m━━━━━━━━━━━━━━━━━━━━\u001b[0m\u001b[37m\u001b[0m \u001b[1m3s\u001b[0m 20ms/step - accuracy: 0.9993 - loss: 0.0035\n",
            "Epoch 96/100\n",
            "\u001b[1m172/172\u001b[0m \u001b[32m━━━━━━━━━━━━━━━━━━━━\u001b[0m\u001b[37m\u001b[0m \u001b[1m2s\u001b[0m 14ms/step - accuracy: 0.9994 - loss: 0.0032\n",
            "Epoch 97/100\n",
            "\u001b[1m172/172\u001b[0m \u001b[32m━━━━━━━━━━━━━━━━━━━━\u001b[0m\u001b[37m\u001b[0m \u001b[1m3s\u001b[0m 14ms/step - accuracy: 0.9990 - loss: 0.0040\n",
            "Epoch 98/100\n",
            "\u001b[1m172/172\u001b[0m \u001b[32m━━━━━━━━━━━━━━━━━━━━\u001b[0m\u001b[37m\u001b[0m \u001b[1m3s\u001b[0m 14ms/step - accuracy: 0.9991 - loss: 0.0038\n",
            "Epoch 99/100\n",
            "\u001b[1m172/172\u001b[0m \u001b[32m━━━━━━━━━━━━━━━━━━━━\u001b[0m\u001b[37m\u001b[0m \u001b[1m3s\u001b[0m 19ms/step - accuracy: 0.9991 - loss: 0.0039\n",
            "Epoch 100/100\n",
            "\u001b[1m172/172\u001b[0m \u001b[32m━━━━━━━━━━━━━━━━━━━━\u001b[0m\u001b[37m\u001b[0m \u001b[1m4s\u001b[0m 24ms/step - accuracy: 0.9988 - loss: 0.0045\n"
          ]
        },
        {
          "data": {
            "text/plain": [
              "<keras.src.callbacks.history.History at 0x78ae789aeaa0>"
            ]
          },
          "execution_count": 25,
          "metadata": {},
          "output_type": "execute_result"
        }
      ],
      "source": [
        "\n",
        "model_lstm.fit(x_train1, Y_train, epochs=100,batch_size=512)\n"
      ]
    },
    {
      "cell_type": "code",
      "execution_count": null,
      "metadata": {
        "colab": {
          "base_uri": "https://localhost:8080/"
        },
        "id": "Tb-Eq39r68yD",
        "outputId": "b57d6a80-a783-4a16-eb86-b4ba6ede6141"
      },
      "outputs": [
        {
          "name": "stdout",
          "output_type": "stream",
          "text": [
            "\u001b[1m685/685\u001b[0m \u001b[32m━━━━━━━━━━━━━━━━━━━━\u001b[0m\u001b[37m\u001b[0m \u001b[1m2s\u001b[0m 3ms/step\n"
          ]
        }
      ],
      "source": [
        "predictions=model_lstm.predict(x_test1)"
      ]
    },
    {
      "cell_type": "code",
      "execution_count": null,
      "metadata": {
        "colab": {
          "base_uri": "https://localhost:8080/"
        },
        "id": "FQ5csQuz68yD",
        "outputId": "66f66886-ba76-43e1-c785-7d671963d3fc"
      },
      "outputs": [
        {
          "name": "stdout",
          "output_type": "stream",
          "text": [
            "              precision    recall  f1-score   support\n",
            "\n",
            "           0       0.99      0.99      0.99     18118\n",
            "           1       0.96      0.94      0.95      3774\n",
            "\n",
            "    accuracy                           0.98     21892\n",
            "   macro avg       0.97      0.97      0.97     21892\n",
            "weighted avg       0.98      0.98      0.98     21892\n",
            "\n"
          ]
        }
      ],
      "source": [
        "print(classification_report(Y_test.argmax(axis=1), predictions.argmax(axis=1)))"
      ]
    },
    {
      "cell_type": "code",
      "execution_count": null,
      "metadata": {
        "colab": {
          "base_uri": "https://localhost:8080/"
        },
        "id": "Cr_Mk6DI68yD",
        "outputId": "8b365a54-1669-4024-d666-d16d330beea4"
      },
      "outputs": [
        {
          "name": "stdout",
          "output_type": "stream",
          "text": [
            "[[9.9999994e-01 3.3045269e-15]\n",
            " [9.9999994e-01 3.0559510e-10]\n",
            " [9.9999994e-01 1.4586851e-10]\n",
            " ...\n",
            " [6.3516182e-14 1.0000000e+00]\n",
            " [8.8528944e-22 1.0000000e+00]\n",
            " [4.4833044e-19 1.0000000e+00]]\n",
            "Type\tCount\n",
            "col\n",
            "0    18199\n",
            "1     3693\n",
            "Name: count, dtype: int64\n"
          ]
        }
      ],
      "source": [
        "print(predictions)\n",
        "a=predictions.argmax(axis=1)     # 0 is row and 1 is column\n",
        "#print(a)\n",
        "\n",
        "#create new df\n",
        "a = pd.DataFrame({'col':a})\n",
        "\n",
        "print(\"Type\\tCount\")\n",
        "print((a['col']).value_counts())"
      ]
    },
    {
      "cell_type": "code",
      "execution_count": null,
      "metadata": {
        "id": "ADPkU0Rg68yD"
      },
      "outputs": [],
      "source": [
        "\n",
        "\n",
        "#                 precision    recall  f1-score\n",
        "#           0       0.99      0.99      0.99\n",
        "#           1       0.96      0.94      0.95\n",
        "\n",
        "#    accuracy  : 0.98\n"
      ]
    },
    {
      "cell_type": "code",
      "execution_count": null,
      "metadata": {
        "colab": {
          "base_uri": "https://localhost:8080/",
          "height": 869
        },
        "id": "Myk2QuuhtYDu",
        "outputId": "f5fb0309-5fb9-4306-8c93-38ecefab1ffc"
      },
      "outputs": [
        {
          "name": "stdout",
          "output_type": "stream",
          "text": [
            "\u001b[1m685/685\u001b[0m \u001b[32m━━━━━━━━━━━━━━━━━━━━\u001b[0m\u001b[37m\u001b[0m \u001b[1m2s\u001b[0m 2ms/step\n"
          ]
        },
        {
          "name": "stderr",
          "output_type": "stream",
          "text": [
            "WARNING:absl:You are saving your model as an HDF5 file via `model.save()` or `keras.saving.save_model(model)`. This file format is considered legacy. We recommend using instead the native Keras format, e.g. `model.save('my_model.keras')` or `keras.saving.save_model(model, 'my_model.keras')`. \n"
          ]
        },
        {
          "name": "stdout",
          "output_type": "stream",
          "text": [
            "              precision    recall  f1-score   support\n",
            "\n",
            "           0       0.99      0.99      0.99     18118\n",
            "           1       0.96      0.94      0.95      3774\n",
            "\n",
            "    accuracy                           0.98     21892\n",
            "   macro avg       0.97      0.97      0.97     21892\n",
            "weighted avg       0.98      0.98      0.98     21892\n",
            "\n",
            "Analyzing sample signal 9...\n",
            "True Label: Normal\n",
            "\u001b[1m1/1\u001b[0m \u001b[32m━━━━━━━━━━━━━━━━━━━━\u001b[0m\u001b[37m\u001b[0m \u001b[1m0s\u001b[0m 49ms/step\n",
            "Prediction: Normal Heartbeat\n"
          ]
        },
        {
          "data": {
            "image/png": "[encoded data removed]",
            "text/plain": [
              "<Figure size 1200x400 with 1 Axes>"
            ]
          },
          "metadata": {},
          "output_type": "display_data"
        },
        {
          "name": "stdout",
          "output_type": "stream",
          "text": [
            "\n",
            "Analyzing custom signal...\n",
            "\u001b[1m1/1\u001b[0m \u001b[32m━━━━━━━━━━━━━━━━━━━━\u001b[0m\u001b[37m\u001b[0m \u001b[1m0s\u001b[0m 47ms/step\n",
            "Prediction: Normal Heartbeat\n"
          ]
        },
        {
          "data": {
            "image/png": "[encoded data removed]",
            "text/plain": [
              "<Figure size 1200x400 with 1 Axes>"
            ]
          },
          "metadata": {},
          "output_type": "display_data"
        }
      ],
      "source": [
        "# Evaluate the model\n",
        "predictions = model_lstm.predict(x_test1)\n",
        "print(classification_report(Y_test.argmax(axis=1), predictions.argmax(axis=1)))\n",
        "\n",
        "# Save the model for future use\n",
        "model_lstm.save(\"/content/drive/MyDrive/mit-bh/heartbeat_classifier.h5\")\n",
        "\n",
        "# Function to preprocess a single ECG signal\n",
        "def preprocess_signal(signal):\n",
        "    # Ensure the signal has the correct length (187 in this case)\n",
        "    if len(signal) != 187:\n",
        "        raise ValueError(\"Signal must have 187 data points\")\n",
        "\n",
        "    # Reshape for sklearn's StandardScaler\n",
        "    signal = np.array(signal).reshape(1, -1)\n",
        "\n",
        "    # Use the same scaler that was used for training data\n",
        "    standardized_signal = StandardScaler().fit_transform(signal)\n",
        "\n",
        "    # Reshape for LSTM input (samples, timesteps, features)\n",
        "    return standardized_signal.reshape(1, 1, 187)\n",
        "\n",
        "# Function to predict heartbeat type\n",
        "def predict_heartbeat(signal):\n",
        "    try:\n",
        "        processed_signal = preprocess_signal(signal)\n",
        "        prediction = model_lstm.predict(processed_signal)\n",
        "        class_idx = prediction.argmax(axis=1)[0]\n",
        "\n",
        "        if class_idx == 0:\n",
        "            return \"Normal Heartbeat\"\n",
        "        else:\n",
        "            return \"Abnormal Heartbeat\"\n",
        "    except Exception as e:\n",
        "        return f\"Error: {str(e)}\"\n",
        "\n",
        "# Example: Let's take a sample from the test set\n",
        "sample_idx = 9  # You can change this index to try different samples\n",
        "sample_signal = feature_test[sample_idx]\n",
        "true_label = \"Normal\" if label_test[sample_idx] == 0 else \"Abnormal\"\n",
        "\n",
        "print(f\"Analyzing sample signal {sample_idx}...\")\n",
        "print(\"True Label:\", true_label)\n",
        "print(\"Prediction:\", predict_heartbeat(sample_signal))\n",
        "\n",
        "# Let's also visualize this ECG signal\n",
        "plt.figure(figsize=(12, 4))\n",
        "plt.plot(sample_signal)\n",
        "plt.title(f'ECG Signal {sample_idx} (True: {true_label})')\n",
        "plt.xlabel('Time')\n",
        "plt.ylabel('Amplitude')\n",
        "plt.grid()\n",
        "plt.show()\n",
        "\n",
        "# Now let's create a custom ECG signal for testing\n",
        "# This is just a dummy example; in practice, you'd use real ECG data\n",
        "sampling_rate = 100\n",
        "data_length = 187\n",
        "ecg_data = np.random.normal(0, 1, data_length)\n",
        "\n",
        "# Add some noise to the data\n",
        "noise_amplitude = 0.5\n",
        "ecg_data += np.random.normal(0, noise_amplitude, data_length)\n",
        "\n",
        "# Scale the data to be between -1 and 1\n",
        "ecg_data /= np.max(np.abs(ecg_data))\n",
        "\n",
        "# sampling_rate = 360\n",
        "# data_length = 187\n",
        "\n",
        "# # Generate random data with a normal distribution\n",
        "# ecg_data = np.random.normal(0, 1, data_length)\n",
        "\n",
        "# # Add noise to the data\n",
        "# noise_amplitude = 0.5\n",
        "# noise = np.random.normal(0, noise_amplitude, data_length)\n",
        "# noisy_ecg_data = ecg_data + noise\n",
        "\n",
        "# # Scale the data to be between -1 and 1\n",
        "# noisy_ecg_data /= np.max(np.abs(noisy_ecg_data))\n",
        "\n",
        "print(\"\\nAnalyzing custom signal...\")\n",
        "print(\"Prediction:\", predict_heartbeat(ecg_data))\n",
        "\n",
        "# Visualize the custom signal\n",
        "plt.figure(figsize=(12, 4))\n",
        "plt.plot(ecg_data)\n",
        "plt.title('Custom ECG Signal')\n",
        "plt.xlabel('Time')\n",
        "plt.ylabel('Amplitude')\n",
        "plt.grid()\n",
        "plt.show()\n",
        "\n",
        "# You can also test the model with signals from scientific papers or other sources\n",
        "# Just make sure they have 187 data points or interpolate/truncate them to fit"
      ]
    }
  ],
  "metadata": {
    "colab": {
      "provenance": []
    },
    "kernelspec": {
      "display_name": "Python 3",
      "language": "python",
      "name": "python3"
    },
    "language_info": {
      "codemirror_mode": {
        "name": "ipython",
        "version": 3
      },
      "file_extension": ".py",
      "mimetype": "text/x-python",
      "name": "python",
      "nbconvert_exporter": "python",
      "pygments_lexer": "ipython3",
      "version": "3.7.3"
    }
  },
  "nbformat": 4,
  "nbformat_minor": 0
}